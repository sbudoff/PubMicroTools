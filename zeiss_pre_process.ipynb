{
 "cells": [
  {
   "cell_type": "code",
   "execution_count": 10,
   "metadata": {},
   "outputs": [],
   "source": [
    "import os\n",
    "import numpy as np\n",
    "import tifffile as tf\n",
    "import gc"
   ]
  },
  {
   "cell_type": "code",
   "execution_count": 11,
   "metadata": {},
   "outputs": [
    {
     "name": "stderr",
     "output_type": "stream",
     "text": [
      "TiffFrame 24: missing required tags\n",
      "OME series: expected 24 frames, got 25\n"
     ]
    },
    {
     "name": "stdout",
     "output_type": "stream",
     "text": [
      "Working on Retina_T1-3(1)-ApoTome RAW Convert-01-Stitching-01-OME TIFF-Export-01.ome.tiff\n",
      "Max Projection computed\n",
      "Saved /media/sam/SamHDD/M2/T123_052023/MaxP/Retina_T1-3(1)-ApoTome RAW Convert-01-Stitching-01-OME TIFF-Export-01.ome.tiff\n"
     ]
    },
    {
     "name": "stderr",
     "output_type": "stream",
     "text": [
      "TiffFrame 24: missing required tags\n",
      "OME series: expected 24 frames, got 25\n"
     ]
    },
    {
     "name": "stdout",
     "output_type": "stream",
     "text": [
      "Working on Retina_T1-3(2)-ApoTome RAW Convert-02-Stitching-02-OME TIFF-Export-02.ome.tiff\n",
      "Max Projection computed\n",
      "Saved /media/sam/SamHDD/M2/T123_052023/MaxP/Retina_T1-3(2)-ApoTome RAW Convert-02-Stitching-02-OME TIFF-Export-02.ome.tiff\n"
     ]
    },
    {
     "name": "stderr",
     "output_type": "stream",
     "text": [
      "TiffFrame 24: missing required tags\n",
      "OME series: expected 24 frames, got 25\n"
     ]
    },
    {
     "name": "stdout",
     "output_type": "stream",
     "text": [
      "Working on Retina_T1-3(3)-ApoTome RAW Convert-03-Stitching-03-OME TIFF-Export-03.ome.tiff\n",
      "Max Projection computed\n",
      "Saved /media/sam/SamHDD/M2/T123_052023/MaxP/Retina_T1-3(3)-ApoTome RAW Convert-03-Stitching-03-OME TIFF-Export-03.ome.tiff\n"
     ]
    },
    {
     "name": "stderr",
     "output_type": "stream",
     "text": [
      "TiffFrame 24: missing required tags\n",
      "OME series: expected 24 frames, got 25\n"
     ]
    },
    {
     "name": "stdout",
     "output_type": "stream",
     "text": [
      "Working on Retina_T1-3(4)-ApoTome RAW Convert-04-Stitching-04-OME TIFF-Export-04.ome.tiff\n",
      "Max Projection computed\n",
      "Saved /media/sam/SamHDD/M2/T123_052023/MaxP/Retina_T1-3(4)-ApoTome RAW Convert-04-Stitching-04-OME TIFF-Export-04.ome.tiff\n"
     ]
    },
    {
     "name": "stderr",
     "output_type": "stream",
     "text": [
      "TiffFrame 24: missing required tags\n",
      "OME series: expected 24 frames, got 25\n"
     ]
    },
    {
     "name": "stdout",
     "output_type": "stream",
     "text": [
      "Working on Retina_T1-3(5)-ApoTome RAW Convert-05-Stitching-05-OME TIFF-Export-05.ome.tiff\n",
      "Max Projection computed\n",
      "Saved /media/sam/SamHDD/M2/T123_052023/MaxP/Retina_T1-3(5)-ApoTome RAW Convert-05-Stitching-05-OME TIFF-Export-05.ome.tiff\n"
     ]
    },
    {
     "name": "stderr",
     "output_type": "stream",
     "text": [
      "TiffFrame 24: missing required tags\n",
      "OME series: expected 24 frames, got 25\n"
     ]
    },
    {
     "name": "stdout",
     "output_type": "stream",
     "text": [
      "Working on Retina_T1-3(6)-ApoTome RAW Convert-06-Stitching-06-OME TIFF-Export-06.ome.tiff\n",
      "Max Projection computed\n",
      "Saved /media/sam/SamHDD/M2/T123_052023/MaxP/Retina_T1-3(6)-ApoTome RAW Convert-06-Stitching-06-OME TIFF-Export-06.ome.tiff\n"
     ]
    },
    {
     "name": "stderr",
     "output_type": "stream",
     "text": [
      "TiffFrame 24: missing required tags\n",
      "OME series: expected 24 frames, got 25\n"
     ]
    },
    {
     "name": "stdout",
     "output_type": "stream",
     "text": [
      "Working on Retina_T1-3(7)-ApoTome RAW Convert-07-Stitching-07-OME TIFF-Export-07.ome.tiff\n",
      "Max Projection computed\n",
      "Saved /media/sam/SamHDD/M2/T123_052023/MaxP/Retina_T1-3(7)-ApoTome RAW Convert-07-Stitching-07-OME TIFF-Export-07.ome.tiff\n"
     ]
    },
    {
     "name": "stderr",
     "output_type": "stream",
     "text": [
      "TiffFrame 24: missing required tags\n",
      "OME series: expected 24 frames, got 25\n"
     ]
    },
    {
     "name": "stdout",
     "output_type": "stream",
     "text": [
      "Working on Retina_T1-3(8)-ApoTome RAW Convert-08-Stitching-08-OME TIFF-Export-08.ome.tiff\n",
      "Max Projection computed\n",
      "Saved /media/sam/SamHDD/M2/T123_052023/MaxP/Retina_T1-3(8)-ApoTome RAW Convert-08-Stitching-08-OME TIFF-Export-08.ome.tiff\n"
     ]
    },
    {
     "name": "stderr",
     "output_type": "stream",
     "text": [
      "TiffFrame 24: missing required tags\n",
      "OME series: expected 24 frames, got 25\n"
     ]
    },
    {
     "name": "stdout",
     "output_type": "stream",
     "text": [
      "Working on Retina_T1-3(9)-ApoTome RAW Convert-09-Stitching-09-OME TIFF-Export-09.ome.tiff\n",
      "Max Projection computed\n",
      "Saved /media/sam/SamHDD/M2/T123_052023/MaxP/Retina_T1-3(9)-ApoTome RAW Convert-09-Stitching-09-OME TIFF-Export-09.ome.tiff\n"
     ]
    }
   ],
   "source": [
    "def compute_z_projection(folder_path, output_folder):\n",
    "    # Create the output folder if it doesn't exist\n",
    "    os.makedirs(output_folder, exist_ok=True)\n",
    "\n",
    "    # Get a list of all TIFF files in the folder\n",
    "    tiff_files = [file for file in os.listdir(folder_path) if file.endswith('.tiff')]\n",
    "\n",
    "    # Process each TIFF file\n",
    "    for file in tiff_files:\n",
    "        \n",
    "        # Load the TIFF image\n",
    "        image = tf.imread(os.path.join(folder_path, file))\n",
    "        print(f'Working on {file}')\n",
    "\n",
    "         # Compute the maximum intensity projection along the z-axis\n",
    "        z_projection = np.array([np.max(image[channel, :, :,:], axis=0) for channel in range(image.shape[0])])\n",
    "        print('Max Projection computed')\n",
    "\n",
    "        # Save the output image to the output folder\n",
    "        output_filename = os.path.join(output_folder, file)\n",
    "        tf.imwrite(output_filename, z_projection)\n",
    "\n",
    "        print(f\"Saved {output_filename}\")\n",
    "\n",
    "        # Free RAM for next large image\n",
    "        image = None\n",
    "        z_projection = None\n",
    "        gc.collect()\n",
    "\n",
    "# Example usage\n",
    "folder_path = '/media/sam/SamHDD/M2/T123_052023/Tiff'\n",
    "output_folder = '/media/sam/SamHDD/M2/T123_052023/MaxP'\n",
    "\n",
    "compute_z_projection(folder_path, output_folder)"
   ]
  },
  {
   "cell_type": "code",
   "execution_count": 12,
   "metadata": {},
   "outputs": [
    {
     "name": "stderr",
     "output_type": "stream",
     "text": [
      "TiffFrame 24: missing required tags\n",
      "OME series: expected 24 frames, got 25\n"
     ]
    },
    {
     "name": "stdout",
     "output_type": "stream",
     "text": [
      "Working on Retina_T1-3-07(1)-ApoTome RAW Convert-01-Stitching-01-OME TIFF-Export-10.ome.tiff\n",
      "Max Projection computed\n",
      "Saved /media/sam/SamHDD/M2/T456_052023/MaxP/Retina_T1-3-07(1)-ApoTome RAW Convert-01-Stitching-01-OME TIFF-Export-10.ome.tiff\n"
     ]
    },
    {
     "name": "stderr",
     "output_type": "stream",
     "text": [
      "TiffFrame 24: missing required tags\n",
      "OME series: expected 24 frames, got 25\n"
     ]
    },
    {
     "name": "stdout",
     "output_type": "stream",
     "text": [
      "Working on Retina_T1-3-07(10)-ApoTome RAW Convert-10-Stitching-10-OME TIFF-Export-19.ome.tiff\n",
      "Max Projection computed\n",
      "Saved /media/sam/SamHDD/M2/T456_052023/MaxP/Retina_T1-3-07(10)-ApoTome RAW Convert-10-Stitching-10-OME TIFF-Export-19.ome.tiff\n"
     ]
    },
    {
     "name": "stderr",
     "output_type": "stream",
     "text": [
      "TiffFrame 24: missing required tags\n",
      "OME series: expected 24 frames, got 25\n"
     ]
    },
    {
     "name": "stdout",
     "output_type": "stream",
     "text": [
      "Working on Retina_T1-3-07(11)-ApoTome RAW Convert-11-Stitching-11-OME TIFF-Export-20.ome.tiff\n",
      "Max Projection computed\n",
      "Saved /media/sam/SamHDD/M2/T456_052023/MaxP/Retina_T1-3-07(11)-ApoTome RAW Convert-11-Stitching-11-OME TIFF-Export-20.ome.tiff\n"
     ]
    },
    {
     "name": "stderr",
     "output_type": "stream",
     "text": [
      "TiffFrame 24: missing required tags\n",
      "OME series: expected 24 frames, got 25\n"
     ]
    },
    {
     "name": "stdout",
     "output_type": "stream",
     "text": [
      "Working on Retina_T1-3-07(2)-ApoTome RAW Convert-02-Stitching-02-OME TIFF-Export-11.ome.tiff\n",
      "Max Projection computed\n",
      "Saved /media/sam/SamHDD/M2/T456_052023/MaxP/Retina_T1-3-07(2)-ApoTome RAW Convert-02-Stitching-02-OME TIFF-Export-11.ome.tiff\n"
     ]
    },
    {
     "name": "stderr",
     "output_type": "stream",
     "text": [
      "TiffFrame 24: missing required tags\n",
      "OME series: expected 24 frames, got 25\n"
     ]
    },
    {
     "name": "stdout",
     "output_type": "stream",
     "text": [
      "Working on Retina_T1-3-07(3)-ApoTome RAW Convert-03-Stitching-03-OME TIFF-Export-12.ome.tiff\n",
      "Max Projection computed\n",
      "Saved /media/sam/SamHDD/M2/T456_052023/MaxP/Retina_T1-3-07(3)-ApoTome RAW Convert-03-Stitching-03-OME TIFF-Export-12.ome.tiff\n"
     ]
    },
    {
     "name": "stderr",
     "output_type": "stream",
     "text": [
      "TiffFrame 24: missing required tags\n",
      "OME series: expected 24 frames, got 25\n"
     ]
    },
    {
     "name": "stdout",
     "output_type": "stream",
     "text": [
      "Working on Retina_T1-3-07(4)-ApoTome RAW Convert-04-Stitching-04-OME TIFF-Export-13.ome.tiff\n",
      "Max Projection computed\n",
      "Saved /media/sam/SamHDD/M2/T456_052023/MaxP/Retina_T1-3-07(4)-ApoTome RAW Convert-04-Stitching-04-OME TIFF-Export-13.ome.tiff\n"
     ]
    },
    {
     "name": "stderr",
     "output_type": "stream",
     "text": [
      "TiffFrame 24: missing required tags\n",
      "OME series: expected 24 frames, got 25\n"
     ]
    },
    {
     "name": "stdout",
     "output_type": "stream",
     "text": [
      "Working on Retina_T1-3-07(5)-ApoTome RAW Convert-05-Stitching-05-OME TIFF-Export-14.ome.tiff\n",
      "Max Projection computed\n",
      "Saved /media/sam/SamHDD/M2/T456_052023/MaxP/Retina_T1-3-07(5)-ApoTome RAW Convert-05-Stitching-05-OME TIFF-Export-14.ome.tiff\n"
     ]
    },
    {
     "name": "stderr",
     "output_type": "stream",
     "text": [
      "TiffFrame 24: missing required tags\n",
      "OME series: expected 24 frames, got 25\n"
     ]
    },
    {
     "name": "stdout",
     "output_type": "stream",
     "text": [
      "Working on Retina_T1-3-07(6)-ApoTome RAW Convert-06-Stitching-06-OME TIFF-Export-15.ome.tiff\n",
      "Max Projection computed\n",
      "Saved /media/sam/SamHDD/M2/T456_052023/MaxP/Retina_T1-3-07(6)-ApoTome RAW Convert-06-Stitching-06-OME TIFF-Export-15.ome.tiff\n"
     ]
    },
    {
     "name": "stderr",
     "output_type": "stream",
     "text": [
      "TiffFrame 24: missing required tags\n",
      "OME series: expected 24 frames, got 25\n"
     ]
    },
    {
     "name": "stdout",
     "output_type": "stream",
     "text": [
      "Working on Retina_T1-3-07(7)-ApoTome RAW Convert-07-Stitching-07-OME TIFF-Export-16.ome.tiff\n",
      "Max Projection computed\n",
      "Saved /media/sam/SamHDD/M2/T456_052023/MaxP/Retina_T1-3-07(7)-ApoTome RAW Convert-07-Stitching-07-OME TIFF-Export-16.ome.tiff\n"
     ]
    },
    {
     "name": "stderr",
     "output_type": "stream",
     "text": [
      "TiffFrame 24: missing required tags\n",
      "OME series: expected 24 frames, got 25\n"
     ]
    },
    {
     "name": "stdout",
     "output_type": "stream",
     "text": [
      "Working on Retina_T1-3-07(8)-ApoTome RAW Convert-08-Stitching-08-OME TIFF-Export-17.ome.tiff\n",
      "Max Projection computed\n",
      "Saved /media/sam/SamHDD/M2/T456_052023/MaxP/Retina_T1-3-07(8)-ApoTome RAW Convert-08-Stitching-08-OME TIFF-Export-17.ome.tiff\n"
     ]
    },
    {
     "name": "stderr",
     "output_type": "stream",
     "text": [
      "TiffFrame 24: missing required tags\n",
      "OME series: expected 24 frames, got 25\n"
     ]
    },
    {
     "name": "stdout",
     "output_type": "stream",
     "text": [
      "Working on Retina_T1-3-07(9)-ApoTome RAW Convert-09-Stitching-09-OME TIFF-Export-18.ome.tiff\n",
      "Max Projection computed\n",
      "Saved /media/sam/SamHDD/M2/T456_052023/MaxP/Retina_T1-3-07(9)-ApoTome RAW Convert-09-Stitching-09-OME TIFF-Export-18.ome.tiff\n"
     ]
    },
    {
     "name": "stderr",
     "output_type": "stream",
     "text": [
      "TiffFrame 24: missing required tags\n",
      "OME series: expected 24 frames, got 25\n"
     ]
    },
    {
     "name": "stdout",
     "output_type": "stream",
     "text": [
      "Working on Retina_T1-3(1)-ApoTome RAW Convert-01-Stitching-01-OME TIFF-Export-01.ome.tiff\n",
      "Max Projection computed\n",
      "Saved /media/sam/SamHDD/M2/T789_052023/MaxP/Retina_T1-3(1)-ApoTome RAW Convert-01-Stitching-01-OME TIFF-Export-01.ome.tiff\n"
     ]
    },
    {
     "name": "stderr",
     "output_type": "stream",
     "text": [
      "TiffFrame 24: missing required tags\n",
      "OME series: expected 24 frames, got 25\n"
     ]
    },
    {
     "name": "stdout",
     "output_type": "stream",
     "text": [
      "Working on Retina_T1-3(2)-ApoTome RAW Convert-02-Stitching-02-OME TIFF-Export-02.ome.tiff\n",
      "Max Projection computed\n",
      "Saved /media/sam/SamHDD/M2/T789_052023/MaxP/Retina_T1-3(2)-ApoTome RAW Convert-02-Stitching-02-OME TIFF-Export-02.ome.tiff\n"
     ]
    },
    {
     "name": "stderr",
     "output_type": "stream",
     "text": [
      "TiffFrame 24: missing required tags\n",
      "OME series: expected 24 frames, got 25\n"
     ]
    },
    {
     "name": "stdout",
     "output_type": "stream",
     "text": [
      "Working on Retina_T1-3(3)-ApoTome RAW Convert-03-Stitching-03-OME TIFF-Export-03.ome.tiff\n",
      "Max Projection computed\n",
      "Saved /media/sam/SamHDD/M2/T789_052023/MaxP/Retina_T1-3(3)-ApoTome RAW Convert-03-Stitching-03-OME TIFF-Export-03.ome.tiff\n"
     ]
    },
    {
     "name": "stderr",
     "output_type": "stream",
     "text": [
      "TiffFrame 24: missing required tags\n",
      "OME series: expected 24 frames, got 25\n"
     ]
    },
    {
     "name": "stdout",
     "output_type": "stream",
     "text": [
      "Working on Retina_T1-3(4)-ApoTome RAW Convert-04-Stitching-04-OME TIFF-Export-04.ome.tiff\n",
      "Max Projection computed\n",
      "Saved /media/sam/SamHDD/M2/T789_052023/MaxP/Retina_T1-3(4)-ApoTome RAW Convert-04-Stitching-04-OME TIFF-Export-04.ome.tiff\n"
     ]
    },
    {
     "name": "stderr",
     "output_type": "stream",
     "text": [
      "TiffFrame 24: missing required tags\n",
      "OME series: expected 24 frames, got 25\n"
     ]
    },
    {
     "name": "stdout",
     "output_type": "stream",
     "text": [
      "Working on Retina_T1-3(6)-ApoTome RAW Convert-06-Stitching-06-OME TIFF-Export-06.ome.tiff\n",
      "Max Projection computed\n",
      "Saved /media/sam/SamHDD/M2/T789_052023/MaxP/Retina_T1-3(6)-ApoTome RAW Convert-06-Stitching-06-OME TIFF-Export-06.ome.tiff\n"
     ]
    },
    {
     "name": "stderr",
     "output_type": "stream",
     "text": [
      "TiffFrame 24: missing required tags\n",
      "OME series: expected 24 frames, got 25\n"
     ]
    },
    {
     "name": "stdout",
     "output_type": "stream",
     "text": [
      "Working on Retina_T1-3(7)-ApoTome RAW Convert-07-Stitching-07-OME TIFF-Export-07.ome.tiff\n",
      "Max Projection computed\n",
      "Saved /media/sam/SamHDD/M2/T789_052023/MaxP/Retina_T1-3(7)-ApoTome RAW Convert-07-Stitching-07-OME TIFF-Export-07.ome.tiff\n"
     ]
    },
    {
     "name": "stderr",
     "output_type": "stream",
     "text": [
      "TiffFrame 24: missing required tags\n",
      "OME series: expected 24 frames, got 25\n"
     ]
    },
    {
     "name": "stdout",
     "output_type": "stream",
     "text": [
      "Working on Retina_T1-3(8)-ApoTome RAW Convert-08-Stitching-08-OME TIFF-Export-08.ome.tiff\n",
      "Max Projection computed\n",
      "Saved /media/sam/SamHDD/M2/T789_052023/MaxP/Retina_T1-3(8)-ApoTome RAW Convert-08-Stitching-08-OME TIFF-Export-08.ome.tiff\n"
     ]
    }
   ],
   "source": [
    "# Example usage\n",
    "folder_path = '/media/sam/SamHDD/M2/T456_052023/Tiff'\n",
    "output_folder = '/media/sam/SamHDD/M2/T456_052023/MaxP'\n",
    "\n",
    "compute_z_projection(folder_path, output_folder)\n",
    "\n",
    "folder_path = '/media/sam/SamHDD/M2/T789_052023/Tiff'\n",
    "output_folder = '/media/sam/SamHDD/M2/T789_052023/MaxP'\n",
    "\n",
    "compute_z_projection(folder_path, output_folder)"
   ]
  },
  {
   "cell_type": "code",
   "execution_count": 1,
   "metadata": {},
   "outputs": [
    {
     "ename": "NameError",
     "evalue": "name 'os' is not defined",
     "output_type": "error",
     "traceback": [
      "\u001b[0;31m---------------------------------------------------------------------------\u001b[0m",
      "\u001b[0;31mNameError\u001b[0m                                 Traceback (most recent call last)",
      "\u001b[0;32m/tmp/ipykernel_18252/3171391654.py\u001b[0m in \u001b[0;36m<module>\u001b[0;34m\u001b[0m\n\u001b[1;32m     29\u001b[0m \u001b[0;31m# Example usage\u001b[0m\u001b[0;34m\u001b[0m\u001b[0;34m\u001b[0m\u001b[0m\n\u001b[1;32m     30\u001b[0m \u001b[0mfolder_path\u001b[0m \u001b[0;34m=\u001b[0m \u001b[0;34m'/media/sam/SamHDD/M2/T123_052023/MaxP'\u001b[0m\u001b[0;34m\u001b[0m\u001b[0;34m\u001b[0m\u001b[0m\n\u001b[0;32m---> 31\u001b[0;31m \u001b[0mdownsample_tiff\u001b[0m\u001b[0;34m(\u001b[0m\u001b[0mfolder_path\u001b[0m\u001b[0;34m)\u001b[0m\u001b[0;34m\u001b[0m\u001b[0;34m\u001b[0m\u001b[0m\n\u001b[0m\u001b[1;32m     32\u001b[0m \u001b[0;34m\u001b[0m\u001b[0m\n\u001b[1;32m     33\u001b[0m \u001b[0mfolder_path\u001b[0m \u001b[0;34m=\u001b[0m \u001b[0;34m'/media/sam/SamHDD/M2/T456_052023/MaxP'\u001b[0m\u001b[0;34m\u001b[0m\u001b[0;34m\u001b[0m\u001b[0m\n",
      "\u001b[0;32m/tmp/ipykernel_18252/3171391654.py\u001b[0m in \u001b[0;36mdownsample_tiff\u001b[0;34m(folder_path)\u001b[0m\n\u001b[1;32m      4\u001b[0m     \u001b[0;34m'This function will open a tiff file with shape (channels, width, height), ensure it has 8-bit encoding, and save the 8-bit encoded image with the same shape'\u001b[0m\u001b[0;34m\u001b[0m\u001b[0;34m\u001b[0m\u001b[0m\n\u001b[1;32m      5\u001b[0m     \u001b[0;31m# Get a list of all TIFF files in the folder\u001b[0m\u001b[0;34m\u001b[0m\u001b[0;34m\u001b[0m\u001b[0m\n\u001b[0;32m----> 6\u001b[0;31m     \u001b[0mtiff_files\u001b[0m \u001b[0;34m=\u001b[0m \u001b[0;34m[\u001b[0m\u001b[0mfile\u001b[0m \u001b[0;32mfor\u001b[0m \u001b[0mfile\u001b[0m \u001b[0;32min\u001b[0m \u001b[0mos\u001b[0m\u001b[0;34m.\u001b[0m\u001b[0mlistdir\u001b[0m\u001b[0;34m(\u001b[0m\u001b[0mfolder_path\u001b[0m\u001b[0;34m)\u001b[0m \u001b[0;32mif\u001b[0m \u001b[0mfile\u001b[0m\u001b[0;34m.\u001b[0m\u001b[0mendswith\u001b[0m\u001b[0;34m(\u001b[0m\u001b[0;34m'.tiff'\u001b[0m\u001b[0;34m)\u001b[0m\u001b[0;34m]\u001b[0m\u001b[0;34m\u001b[0m\u001b[0;34m\u001b[0m\u001b[0m\n\u001b[0m\u001b[1;32m      7\u001b[0m \u001b[0;34m\u001b[0m\u001b[0m\n\u001b[1;32m      8\u001b[0m     \u001b[0;31m# Process each TIFF file\u001b[0m\u001b[0;34m\u001b[0m\u001b[0;34m\u001b[0m\u001b[0m\n",
      "\u001b[0;31mNameError\u001b[0m: name 'os' is not defined"
     ]
    }
   ],
   "source": [
    "from skimage import img_as_ubyte\n",
    "\n",
    "def downsample_tiff(folder_path):\n",
    "    'This function will open a tiff file with shape (channels, width, height), ensure it has 8-bit encoding, and save the 8-bit encoded image with the same shape'\n",
    "    # Get a list of all TIFF files in the folder\n",
    "    tiff_files = [file for file in os.listdir(folder_path) if file.endswith('.tiff')]\n",
    "\n",
    "    # Process each TIFF file\n",
    "    for file in tiff_files:\n",
    "        # Load the TIFF image\n",
    "        image = tf.imread(os.path.join(folder_path, file))\n",
    "        print(f'Working on {file}')\n",
    "\n",
    "        # Convert the image to 8-bit\n",
    "        image_8 = img_as_ubyte(image)\n",
    "        print('Downsampling computed')\n",
    "\n",
    "        # Save the output image to the output folder\n",
    "        output_filename = os.path.join(folder_path, file)\n",
    "        tf.imwrite(output_filename, image_8)\n",
    "\n",
    "        print(f\"Saved {output_filename}\")\n",
    "\n",
    "        # Free RAM for the next large image\n",
    "        image = None\n",
    "        image_8 = None\n",
    "        gc.collect()\n",
    "\n",
    "# Example usage\n",
    "folder_path = '/media/sam/SamHDD/M2/T123_052023/MaxP'\n",
    "downsample_tiff(folder_path)\n",
    "\n",
    "folder_path = '/media/sam/SamHDD/M2/T456_052023/MaxP'\n",
    "downsample_tiff(folder_path)\n",
    "\n",
    "folder_path = '/media/sam/SamHDD/M2/T789_052023/MaxP'\n",
    "downsample_tiff(folder_path)"
   ]
  },
  {
   "cell_type": "code",
   "execution_count": 5,
   "metadata": {},
   "outputs": [
    {
     "data": {
      "text/plain": [
       "(4, 6, 34901, 29377)"
      ]
     },
     "execution_count": 5,
     "metadata": {},
     "output_type": "execute_result"
    }
   ],
   "source": [
    "image.shape"
   ]
  },
  {
   "cell_type": "code",
   "execution_count": 6,
   "metadata": {},
   "outputs": [],
   "source": [
    " # Compute the maximum intensity projection along the z-axis\n",
    "z_projection = np.array([np.max(image[channel, :, :,:], axis=0) for channel in range(image.shape[0])])"
   ]
  },
  {
   "cell_type": "code",
   "execution_count": 10,
   "metadata": {},
   "outputs": [
    {
     "data": {
      "text/plain": [
       "(4, 36839, 32943)"
      ]
     },
     "execution_count": 10,
     "metadata": {},
     "output_type": "execute_result"
    }
   ],
   "source": [
    "z_projection"
   ]
  },
  {
   "cell_type": "code",
   "execution_count": 7,
   "metadata": {},
   "outputs": [],
   "source": [
    "output_filename = os.path.join(output_folder, file)\n",
    "tf.imwrite(output_filename, z_projection)\n"
   ]
  },
  {
   "cell_type": "code",
   "execution_count": 9,
   "metadata": {},
   "outputs": [
    {
     "data": {
      "text/plain": [
       "87"
      ]
     },
     "execution_count": 9,
     "metadata": {},
     "output_type": "execute_result"
    }
   ],
   "source": [
    "image = None\n",
    "z_projection = None\n",
    "\n",
    "gc.collect()"
   ]
  }
 ],
 "metadata": {
  "kernelspec": {
   "display_name": "MLM",
   "language": "python",
   "name": "python3"
  },
  "language_info": {
   "codemirror_mode": {
    "name": "ipython",
    "version": 3
   },
   "file_extension": ".py",
   "mimetype": "text/x-python",
   "name": "python",
   "nbconvert_exporter": "python",
   "pygments_lexer": "ipython3",
   "version": "3.9.16"
  },
  "orig_nbformat": 4
 },
 "nbformat": 4,
 "nbformat_minor": 2
}
