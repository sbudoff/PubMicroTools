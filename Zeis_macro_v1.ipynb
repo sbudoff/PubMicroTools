# Prompt User to specify output folder
Outputfolder = ???

# Load the newly acquired image
raw_im = ???

# Perform ApoTome raw convert
nb_phase = image.Bounds.SizeH
image_apotome = Zen.Processing.Utilities.ApoTomeSimConvert(raw_im,
                                                           ZenApoTomeProcessingMode.Sectioned,
                                                           ZenSimCorrectionMode.LocalIntensity,
                                                           ZenNormalizeMode.Clip,
                                                           ZenApoTomeFilter.Off,
                                                           False)


# Save Processed file
image_name = image.Name.Replace('.czi', '_Apotome.czi')
imageName = Path.Combine(Outputfolder, image_name)
image_apotome.Save(imageName)

# get the stitching settings
Stitchset = r'Stitching_Channel_1.czips'

# create a function setting for the Stiching Function
functionsetting1 = Zen.Processing.Transformation.Geometric.Stitching(image_apotome)

# apply the setting
functionsetting1.Load(Stitchset)

# Save Stitched file
image_name = image.Name.Replace('_Apotome.czi', '_Stitched.czi')
imageName = Path.Combine(Outputfolder, image_name)
functionsetting1.Save(imageName)